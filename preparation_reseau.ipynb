{
 "cells": [
  {
   "cell_type": "code",
   "execution_count": 1,
   "id": "8e889042",
   "metadata": {},
   "outputs": [
    {
     "data": {
      "text/plain": [
       "'2.0.1'"
      ]
     },
     "execution_count": 1,
     "metadata": {},
     "output_type": "execute_result"
    }
   ],
   "source": [
    "import networkx as nx\n",
    "import osmnx as ox\n",
    "import pandas as pd\n",
    "from shapely.geometry import Point\n",
    "import geopandas as gpd\n",
    "import matplotlib.pyplot as plt\n",
    "\n",
    "ox.__version__"
   ]
  },
  {
   "cell_type": "code",
   "execution_count": null,
   "id": "d537f5b4",
   "metadata": {},
   "outputs": [
    {
     "name": "stdout",
     "output_type": "stream",
     "text": [
      "Chargement des graphes...\n",
      "Calcul des vitesses pour drive...\n",
      "Application des vitesses personnalisées pour walk...\n",
      "Fusion des graphes...\n"
     ]
    }
   ],
   "source": [
    "ville = \"Vaud, Suisse\" # Remplacez par la ville souhaitée, exemple : \"Vallorbe, District du Jura-Nord vaudois, Vaud, 1337, Suisse\" - noms exacts de la documentation OSM\n",
    "\n",
    "print(\"Chargement des graphes...\")\n",
    "G_drive = ox.graph.graph_from_place(ville, network_type=\"drive\")\n",
    "G_walk = ox.graph.graph_from_place(ville, network_type=\"walk\")\n",
    "\n",
    "print(\"Calcul des vitesses pour drive...\")\n",
    "G_drive = ox.routing.add_edge_speeds(G_drive)\n",
    "G_drive = ox.routing.add_edge_travel_times(G_drive)\n",
    "\n",
    "print(\"Application des vitesses personnalisées pour walk...\")\n",
    "G_walk = ox.routing.add_edge_speeds(G_walk)\n",
    "G_walk = ox.routing.add_edge_travel_times(G_walk)\n",
    "for u, v, k, data in G_walk.edges(keys=True, data=True):\n",
    "    data[\"speed_kph\"] = 30  # Vitesse par défaut pour les pompiers sur toutes routes\n",
    "G_walk_proj = ox.routing.add_edge_travel_times(G_walk)\n",
    "\n",
    "print(\"Fusion des graphes...\")\n",
    "G_combined = nx.compose(G_drive, G_walk_proj)"
   ]
  },
  {
   "cell_type": "code",
   "execution_count": null,
   "id": "c23a63fa-a8a5-4f11-ad52-fab409ecb354",
   "metadata": {},
   "outputs": [
    {
     "name": "stdout",
     "output_type": "stream",
     "text": [
      "Supression des types de 'highway' qui ne sont pas dans cette liste; unclassified, track, primary, residential, secondary, service, tertiary.\n",
      "Terminé\n"
     ]
    }
   ],
   "source": [
    "# Liste des types de routes à CONSERVER\n",
    "print(\"Supression des types de 'highway' qui ne sont pas dans cette liste; unclassified, track, primary, residential, secondary, service, tertiary.\")\n",
    "types_to_keep = [\"unclassified\",\"track\", \"primary\", \"residential\", \"secondary\", \"service\", \"services\", \"tertiary\", \"motorway\", \"motorway_link\", \"primary_link\", \"secondary_link\", \"tertiary_link\", \"trunk\", \"trunk_link\"] \n",
    "\n",
    "# Fonction pour vérifier si une arête doit être conservée\n",
    "def should_keep(highway_value):\n",
    "    if isinstance(highway_value, list):\n",
    "        # Vérifier si au moins un des types dans la liste est à conserver\n",
    "        return any(highway_type in types_to_keep for highway_type in highway_value)\n",
    "    else:\n",
    "        # Vérifier si le type unique est à conserver\n",
    "        return highway_value in types_to_keep\n",
    "\n",
    "# Identifier les arêtes à supprimer (celles qui ne sont PAS à conserver)\n",
    "edges_to_remove = []\n",
    "for u, v, k, data in G_combined.edges(keys=True, data=True):\n",
    "    if 'highway' in data:\n",
    "        if not should_keep(data['highway']):\n",
    "            edges_to_remove.append((u, v, k))\n",
    "    else:\n",
    "        # Si l'arête n'a pas d'attribut highway, on la supprime également\n",
    "        edges_to_remove.append((u, v, k))\n",
    "\n",
    "# Supprimer les arêtes qui ne sont pas des types à conserver\n",
    "for edge in edges_to_remove:\n",
    "    u, v, k = edge\n",
    "    G_combined.remove_edge(u, v, k)\n",
    "    \n",
    "# Mettre à jour les GeoDataFrames avec le graphe modifié\n",
    "gdf_nodes, gdf_edges = ox.graph_to_gdfs(G_combined, nodes=True, edges=True)\n",
    "\n",
    "# Vérifier les types de highways restants\n",
    "all_highway_types = set()\n",
    "for highway_value in gdf_edges['highway']:\n",
    "    if isinstance(highway_value, list):\n",
    "        for item in highway_value:\n",
    "            all_highway_types.add(item)\n",
    "    else:\n",
    "        all_highway_types.add(highway_value)\n",
    "\n",
    "sorted_highway_types = sorted([x for x in all_highway_types if x is not None])\n",
    "if None in all_highway_types:\n",
    "    sorted_highway_types.append(None)\n",
    "    \n",
    "print(\"Terminé\")\n"
   ]
  },
  {
   "cell_type": "code",
   "execution_count": null,
   "id": "3aac0d9a",
   "metadata": {},
   "outputs": [
    {
     "name": "stdout",
     "output_type": "stream",
     "text": [
      "5. Conversion en GeoDataFrames...\n",
      "   ➤ 1417 nœuds et 2845 arêtes extraits.\n",
      "6. Export du graphe en Geopackage...\n",
      "   ➤ Fichier .gpkg enregistré.\n",
      "7. Export du graphe en GraphML...\n",
      "   ➤ Fichier .graphml enregistré.\n",
      "✅ Traitement terminé avec succès.\n"
     ]
    }
   ],
   "source": [
    "print(\"5. Conversion en GeoDataFrames...\")\n",
    "gdf_nodes, gdf_edges = ox.convert.graph_to_gdfs(G_combined, nodes=True, edges=True)\n",
    "print(f\"   ➤ {len(gdf_nodes)} nœuds et {len(gdf_edges)} arêtes extraits.\")\n",
    "\n",
    "nom_fichier = \"Vaud\" # Nom du fichier de sortie, modifiez ici et dans 'calcultateur_itineraire.py' si nécessaire\n",
    "print(\"6. Export du graphe en Geopackage...\")\n",
    "ox.io.save_graph_geopackage(G_combined, filepath=nom_fichier + \".gpkg\")\n",
    "print(\"   ➤ Fichier .gpkg enregistré.\")\n",
    "\n",
    "print(\"7. Export du graphe en GraphML...\")\n",
    "ox.io.save_graphml(G_combined, filepath=nom_fichier + \".graphml\")\n",
    "print(\"   ➤ Fichier .graphml enregistré.\")\n",
    "\n",
    "print(\"✅ Traitement terminé avec succès.\")"
   ]
  }
 ],
 "metadata": {
  "kernelspec": {
   "display_name": "ox",
   "language": "python",
   "name": "python3"
  },
  "language_info": {
   "codemirror_mode": {
    "name": "ipython",
    "version": 3
   },
   "file_extension": ".py",
   "mimetype": "text/x-python",
   "name": "python",
   "nbconvert_exporter": "python",
   "pygments_lexer": "ipython3",
   "version": "3.9.21"
  }
 },
 "nbformat": 4,
 "nbformat_minor": 5
}
